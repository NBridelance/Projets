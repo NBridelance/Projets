{
 "cells": [
  {
   "cell_type": "markdown",
   "id": "9557a289-88f8-41d9-b8d1-401a60f71e17",
   "metadata": {},
   "source": [
    "# Walmart"
   ]
  },
  {
   "cell_type": "markdown",
   "id": "c2c35604-e952-4f25-a340-e4ed522b1c2f",
   "metadata": {
    "tags": []
   },
   "source": [
    "## Imports & loading"
   ]
  },
  {
   "cell_type": "code",
   "execution_count": 1,
   "id": "bcd33b66-461c-4a59-a732-11534cdfd0bb",
   "metadata": {},
   "outputs": [],
   "source": [
    "import pandas as pd\n",
    "import numpy as np\n",
    "import seaborn as sns\n",
    "import matplotlib.pyplot as plt\n",
    "\n",
    "from sklearn.model_selection import train_test_split\n",
    "from sklearn.impute import SimpleImputer\n",
    "from sklearn.preprocessing import  OneHotEncoder, StandardScaler\n",
    "from sklearn.compose import ColumnTransformer\n",
    "from sklearn.linear_model import LinearRegression\n",
    "from sklearn.metrics import r2_score\n",
    "from sklearn.pipeline import Pipeline\n",
    "\n",
    "import plotly.express as px\n",
    "import plotly.graph_objects as go\n",
    "import plotly.io as pio\n",
    "# setting Jedha color palette as default\n",
    "pio.templates[\"jedha\"] = go.layout.Template(\n",
    "    layout_colorway=[\"#4B9AC7\", \"#4BE8E0\", \"#9DD4F3\", \"#97FBF6\", \"#2A7FAF\", \"#23B1AB\", \"#0E3449\", \"#015955\"]\n",
    ")\n",
    "pio.templates.default = \"jedha\"\n",
    "pio.renderers.default = \"iframe\" # to be replaced by \"iframe\" if working on JULIE\n"
   ]
  },
  {
   "cell_type": "code",
   "execution_count": 23,
   "id": "689e78d6-9093-4df8-a938-0e6fab84ab32",
   "metadata": {},
   "outputs": [
    {
     "name": "stdout",
     "output_type": "stream",
     "text": [
      "Loading dataset...\n",
      "...Done.\n",
      "\n"
     ]
    }
   ],
   "source": [
    "# Import dataset\n",
    "print(\"Loading dataset...\")\n",
    "dataset = pd.read_csv(\"Walmart.csv\")\n",
    "print(\"...Done.\")\n",
    "print()\n"
   ]
  },
  {
   "cell_type": "markdown",
   "id": "bb865a08-c8f8-4d12-a46e-a405d303feed",
   "metadata": {
    "tags": []
   },
   "source": [
    "## EDA & cleaning"
   ]
  },
  {
   "cell_type": "code",
   "execution_count": 24,
   "id": "b7e2feb7-b08d-4924-a09b-bf6defff9143",
   "metadata": {},
   "outputs": [
    {
     "name": "stdout",
     "output_type": "stream",
     "text": [
      "Number of rows : 6435\n",
      "\n",
      "Display of dataset: \n"
     ]
    },
    {
     "data": {
      "text/html": [
       "<div>\n",
       "<style scoped>\n",
       "    .dataframe tbody tr th:only-of-type {\n",
       "        vertical-align: middle;\n",
       "    }\n",
       "\n",
       "    .dataframe tbody tr th {\n",
       "        vertical-align: top;\n",
       "    }\n",
       "\n",
       "    .dataframe thead th {\n",
       "        text-align: right;\n",
       "    }\n",
       "</style>\n",
       "<table border=\"1\" class=\"dataframe\">\n",
       "  <thead>\n",
       "    <tr style=\"text-align: right;\">\n",
       "      <th></th>\n",
       "      <th>Store</th>\n",
       "      <th>Date</th>\n",
       "      <th>Weekly_Sales</th>\n",
       "      <th>Holiday_Flag</th>\n",
       "      <th>Temperature</th>\n",
       "      <th>Fuel_Price</th>\n",
       "      <th>CPI</th>\n",
       "      <th>Unemployment</th>\n",
       "    </tr>\n",
       "  </thead>\n",
       "  <tbody>\n",
       "    <tr>\n",
       "      <th>0</th>\n",
       "      <td>1</td>\n",
       "      <td>05-02-2010</td>\n",
       "      <td>1643690.90</td>\n",
       "      <td>0</td>\n",
       "      <td>42.31</td>\n",
       "      <td>2.572</td>\n",
       "      <td>211.096358</td>\n",
       "      <td>8.106</td>\n",
       "    </tr>\n",
       "    <tr>\n",
       "      <th>1</th>\n",
       "      <td>1</td>\n",
       "      <td>12-02-2010</td>\n",
       "      <td>1641957.44</td>\n",
       "      <td>1</td>\n",
       "      <td>38.51</td>\n",
       "      <td>2.548</td>\n",
       "      <td>211.242170</td>\n",
       "      <td>8.106</td>\n",
       "    </tr>\n",
       "    <tr>\n",
       "      <th>2</th>\n",
       "      <td>1</td>\n",
       "      <td>19-02-2010</td>\n",
       "      <td>1611968.17</td>\n",
       "      <td>0</td>\n",
       "      <td>39.93</td>\n",
       "      <td>2.514</td>\n",
       "      <td>211.289143</td>\n",
       "      <td>8.106</td>\n",
       "    </tr>\n",
       "    <tr>\n",
       "      <th>3</th>\n",
       "      <td>1</td>\n",
       "      <td>26-02-2010</td>\n",
       "      <td>1409727.59</td>\n",
       "      <td>0</td>\n",
       "      <td>46.63</td>\n",
       "      <td>2.561</td>\n",
       "      <td>211.319643</td>\n",
       "      <td>8.106</td>\n",
       "    </tr>\n",
       "    <tr>\n",
       "      <th>4</th>\n",
       "      <td>1</td>\n",
       "      <td>05-03-2010</td>\n",
       "      <td>1554806.68</td>\n",
       "      <td>0</td>\n",
       "      <td>46.50</td>\n",
       "      <td>2.625</td>\n",
       "      <td>211.350143</td>\n",
       "      <td>8.106</td>\n",
       "    </tr>\n",
       "  </tbody>\n",
       "</table>\n",
       "</div>"
      ],
      "text/plain": [
       "   Store        Date  Weekly_Sales  Holiday_Flag  Temperature  Fuel_Price  \\\n",
       "0      1  05-02-2010    1643690.90             0        42.31       2.572   \n",
       "1      1  12-02-2010    1641957.44             1        38.51       2.548   \n",
       "2      1  19-02-2010    1611968.17             0        39.93       2.514   \n",
       "3      1  26-02-2010    1409727.59             0        46.63       2.561   \n",
       "4      1  05-03-2010    1554806.68             0        46.50       2.625   \n",
       "\n",
       "          CPI  Unemployment  \n",
       "0  211.096358         8.106  \n",
       "1  211.242170         8.106  \n",
       "2  211.289143         8.106  \n",
       "3  211.319643         8.106  \n",
       "4  211.350143         8.106  "
      ]
     },
     "metadata": {},
     "output_type": "display_data"
    },
    {
     "name": "stdout",
     "output_type": "stream",
     "text": [
      "\n",
      "Basics statistics: \n"
     ]
    },
    {
     "data": {
      "text/html": [
       "<div>\n",
       "<style scoped>\n",
       "    .dataframe tbody tr th:only-of-type {\n",
       "        vertical-align: middle;\n",
       "    }\n",
       "\n",
       "    .dataframe tbody tr th {\n",
       "        vertical-align: top;\n",
       "    }\n",
       "\n",
       "    .dataframe thead th {\n",
       "        text-align: right;\n",
       "    }\n",
       "</style>\n",
       "<table border=\"1\" class=\"dataframe\">\n",
       "  <thead>\n",
       "    <tr style=\"text-align: right;\">\n",
       "      <th></th>\n",
       "      <th>Store</th>\n",
       "      <th>Date</th>\n",
       "      <th>Weekly_Sales</th>\n",
       "      <th>Holiday_Flag</th>\n",
       "      <th>Temperature</th>\n",
       "      <th>Fuel_Price</th>\n",
       "      <th>CPI</th>\n",
       "      <th>Unemployment</th>\n",
       "    </tr>\n",
       "  </thead>\n",
       "  <tbody>\n",
       "    <tr>\n",
       "      <th>count</th>\n",
       "      <td>6435.000000</td>\n",
       "      <td>6435</td>\n",
       "      <td>6.435000e+03</td>\n",
       "      <td>6435.000000</td>\n",
       "      <td>6435.000000</td>\n",
       "      <td>6435.000000</td>\n",
       "      <td>6435.000000</td>\n",
       "      <td>6435.000000</td>\n",
       "    </tr>\n",
       "    <tr>\n",
       "      <th>unique</th>\n",
       "      <td>NaN</td>\n",
       "      <td>143</td>\n",
       "      <td>NaN</td>\n",
       "      <td>NaN</td>\n",
       "      <td>NaN</td>\n",
       "      <td>NaN</td>\n",
       "      <td>NaN</td>\n",
       "      <td>NaN</td>\n",
       "    </tr>\n",
       "    <tr>\n",
       "      <th>top</th>\n",
       "      <td>NaN</td>\n",
       "      <td>05-02-2010</td>\n",
       "      <td>NaN</td>\n",
       "      <td>NaN</td>\n",
       "      <td>NaN</td>\n",
       "      <td>NaN</td>\n",
       "      <td>NaN</td>\n",
       "      <td>NaN</td>\n",
       "    </tr>\n",
       "    <tr>\n",
       "      <th>freq</th>\n",
       "      <td>NaN</td>\n",
       "      <td>45</td>\n",
       "      <td>NaN</td>\n",
       "      <td>NaN</td>\n",
       "      <td>NaN</td>\n",
       "      <td>NaN</td>\n",
       "      <td>NaN</td>\n",
       "      <td>NaN</td>\n",
       "    </tr>\n",
       "    <tr>\n",
       "      <th>mean</th>\n",
       "      <td>23.000000</td>\n",
       "      <td>NaN</td>\n",
       "      <td>1.046965e+06</td>\n",
       "      <td>0.069930</td>\n",
       "      <td>60.663782</td>\n",
       "      <td>3.358607</td>\n",
       "      <td>171.578394</td>\n",
       "      <td>7.999151</td>\n",
       "    </tr>\n",
       "    <tr>\n",
       "      <th>std</th>\n",
       "      <td>12.988182</td>\n",
       "      <td>NaN</td>\n",
       "      <td>5.643666e+05</td>\n",
       "      <td>0.255049</td>\n",
       "      <td>18.444933</td>\n",
       "      <td>0.459020</td>\n",
       "      <td>39.356712</td>\n",
       "      <td>1.875885</td>\n",
       "    </tr>\n",
       "    <tr>\n",
       "      <th>min</th>\n",
       "      <td>1.000000</td>\n",
       "      <td>NaN</td>\n",
       "      <td>2.099862e+05</td>\n",
       "      <td>0.000000</td>\n",
       "      <td>-2.060000</td>\n",
       "      <td>2.472000</td>\n",
       "      <td>126.064000</td>\n",
       "      <td>3.879000</td>\n",
       "    </tr>\n",
       "    <tr>\n",
       "      <th>25%</th>\n",
       "      <td>12.000000</td>\n",
       "      <td>NaN</td>\n",
       "      <td>5.533501e+05</td>\n",
       "      <td>0.000000</td>\n",
       "      <td>47.460000</td>\n",
       "      <td>2.933000</td>\n",
       "      <td>131.735000</td>\n",
       "      <td>6.891000</td>\n",
       "    </tr>\n",
       "    <tr>\n",
       "      <th>50%</th>\n",
       "      <td>23.000000</td>\n",
       "      <td>NaN</td>\n",
       "      <td>9.607460e+05</td>\n",
       "      <td>0.000000</td>\n",
       "      <td>62.670000</td>\n",
       "      <td>3.445000</td>\n",
       "      <td>182.616521</td>\n",
       "      <td>7.874000</td>\n",
       "    </tr>\n",
       "    <tr>\n",
       "      <th>75%</th>\n",
       "      <td>34.000000</td>\n",
       "      <td>NaN</td>\n",
       "      <td>1.420159e+06</td>\n",
       "      <td>0.000000</td>\n",
       "      <td>74.940000</td>\n",
       "      <td>3.735000</td>\n",
       "      <td>212.743293</td>\n",
       "      <td>8.622000</td>\n",
       "    </tr>\n",
       "    <tr>\n",
       "      <th>max</th>\n",
       "      <td>45.000000</td>\n",
       "      <td>NaN</td>\n",
       "      <td>3.818686e+06</td>\n",
       "      <td>1.000000</td>\n",
       "      <td>100.140000</td>\n",
       "      <td>4.468000</td>\n",
       "      <td>227.232807</td>\n",
       "      <td>14.313000</td>\n",
       "    </tr>\n",
       "  </tbody>\n",
       "</table>\n",
       "</div>"
      ],
      "text/plain": [
       "              Store        Date  Weekly_Sales  Holiday_Flag  Temperature  \\\n",
       "count   6435.000000        6435  6.435000e+03   6435.000000  6435.000000   \n",
       "unique          NaN         143           NaN           NaN          NaN   \n",
       "top             NaN  05-02-2010           NaN           NaN          NaN   \n",
       "freq            NaN          45           NaN           NaN          NaN   \n",
       "mean      23.000000         NaN  1.046965e+06      0.069930    60.663782   \n",
       "std       12.988182         NaN  5.643666e+05      0.255049    18.444933   \n",
       "min        1.000000         NaN  2.099862e+05      0.000000    -2.060000   \n",
       "25%       12.000000         NaN  5.533501e+05      0.000000    47.460000   \n",
       "50%       23.000000         NaN  9.607460e+05      0.000000    62.670000   \n",
       "75%       34.000000         NaN  1.420159e+06      0.000000    74.940000   \n",
       "max       45.000000         NaN  3.818686e+06      1.000000   100.140000   \n",
       "\n",
       "         Fuel_Price          CPI  Unemployment  \n",
       "count   6435.000000  6435.000000   6435.000000  \n",
       "unique          NaN          NaN           NaN  \n",
       "top             NaN          NaN           NaN  \n",
       "freq            NaN          NaN           NaN  \n",
       "mean       3.358607   171.578394      7.999151  \n",
       "std        0.459020    39.356712      1.875885  \n",
       "min        2.472000   126.064000      3.879000  \n",
       "25%        2.933000   131.735000      6.891000  \n",
       "50%        3.445000   182.616521      7.874000  \n",
       "75%        3.735000   212.743293      8.622000  \n",
       "max        4.468000   227.232807     14.313000  "
      ]
     },
     "metadata": {},
     "output_type": "display_data"
    },
    {
     "name": "stdout",
     "output_type": "stream",
     "text": [
      "\n",
      "Percentage of missing values: \n"
     ]
    },
    {
     "data": {
      "text/plain": [
       "Store           0.0\n",
       "Date            0.0\n",
       "Weekly_Sales    0.0\n",
       "Holiday_Flag    0.0\n",
       "Temperature     0.0\n",
       "Fuel_Price      0.0\n",
       "CPI             0.0\n",
       "Unemployment    0.0\n",
       "dtype: float64"
      ]
     },
     "metadata": {},
     "output_type": "display_data"
    }
   ],
   "source": [
    "# Basic stats\n",
    "print(\"Number of rows : {}\".format(dataset.shape[0]))\n",
    "print()\n",
    "\n",
    "print(\"Display of dataset: \")\n",
    "display(dataset.head())\n",
    "print()\n",
    "\n",
    "print(\"Basics statistics: \")\n",
    "data_desc = dataset.describe(include='all')\n",
    "display(data_desc)\n",
    "print()\n",
    "\n",
    "print(\"Percentage of missing values: \")\n",
    "display(100*dataset.isnull().sum()/dataset.shape[0])"
   ]
  },
  {
   "cell_type": "code",
   "execution_count": 25,
   "id": "e7edebf5-bed1-43f1-8782-a09fccbc7dcf",
   "metadata": {},
   "outputs": [],
   "source": [
    "# Create columns for year, month, day and day of week\n",
    "dataset['Date'] = pd.to_datetime(dataset['Date'], format='%d-%m-%Y')\n",
    "#dataset['DayOfWeek'] = dataset['Date'].dt.dayofweek # 0: monday / 6: Sunday\n",
    "#DayOfWeek is useless here : all values are friday\n",
    "dataset['Week_Number']=dataset['Date'].dt.isocalendar().week\n",
    "dataset['Day_of_Year_Number']=dataset['Date'].dt.dayofyear\n",
    "dataset['Day'] = dataset['Date'].dt.day\n",
    "dataset['Month'] = dataset['Date'].dt.month\n",
    "dataset['Year'] = dataset['Date'].dt.year"
   ]
  },
  {
   "cell_type": "code",
   "execution_count": 26,
   "id": "e817597d-87bf-4875-8691-6655895a54a9",
   "metadata": {},
   "outputs": [
    {
     "data": {
      "text/plain": [
       "<AxesSubplot:>"
      ]
     },
     "execution_count": 26,
     "metadata": {},
     "output_type": "execute_result"
    },
    {
     "data": {
      "image/png": "[encoded data removed]",
      "text/plain": [
       "<Figure size 432x288 with 2 Axes>"
      ]
     },
     "metadata": {
      "needs_background": "light"
     },
     "output_type": "display_data"
    }
   ],
   "source": [
    "# Plot the heatmap and annotation on it\n",
    "dataset_correlation = dataset.corr()\n",
    "sns.heatmap(dataset_correlation, xticklabels=dataset_correlation.columns, yticklabels=dataset_correlation.columns, cmap='coolwarm', vmin=-1, vmax = 1)"
   ]
  },
  {
   "cell_type": "code",
   "execution_count": 27,
   "id": "1a56be68-dbdb-4ceb-96e7-e5e3bbc3270c",
   "metadata": {},
   "outputs": [
    {
     "data": {
      "image/png": "[encoded data removed]",
      "text/plain": [
       "<Figure size 1152x1440 with 12 Axes>"
      ]
     },
     "metadata": {
      "needs_background": "light"
     },
     "output_type": "display_data"
    }
   ],
   "source": [
    "# listing dataframes types\n",
    "list(set(dataset.dtypes.tolist()))\n",
    "# include only float and integer\n",
    "df_num = dataset.select_dtypes(include = ['float64', 'int64', 'UInt32'])\n",
    "# display what has been selected\n",
    "df_num.head()\n",
    "# plot\n",
    "df_num.hist(figsize=(16, 20), bins=50, xlabelsize=8, ylabelsize=8);"
   ]
  },
  {
   "cell_type": "markdown",
   "id": "aee26b6b-4103-4fb9-9938-e3fc23790eaa",
   "metadata": {},
   "source": [
    "**Note : The distribution shows that CPI and Fuel Price are not even remotely normal distributions, hence should NOT be trimmed using standard deviation**"
   ]
  },
  {
   "cell_type": "code",
   "execution_count": 28,
   "id": "77f0231e-63a1-43bf-8c03-c91975df615a",
   "metadata": {},
   "outputs": [],
   "source": [
    "#sns.pairplot(dataset)"
   ]
  },
  {
   "cell_type": "code",
   "execution_count": 29,
   "id": "16172d85-b12f-4aee-bc04-d467cb83681f",
   "metadata": {},
   "outputs": [
    {
     "name": "stdout",
     "output_type": "stream",
     "text": [
      "Number of rows before removing NAs : 6435\n",
      "\n",
      "Number of rows after removing NAs : 6435\n",
      "\n",
      "Number of rows before removing outliers : 6435\n",
      "\n",
      "Number of rows AFTER removing outliers : 6215\n",
      "\n"
     ]
    }
   ],
   "source": [
    "# Drop lines containing invalid values or outliers\n",
    "print(\"Number of rows before removing NAs : {}\".format(dataset.shape[0]))\n",
    "print()\n",
    "dataset.dropna(inplace=True)\n",
    "print(\"Number of rows after removing NAs : {}\".format(dataset.shape[0]))\n",
    "print()\n",
    "\n",
    "print(\"Number of rows before removing outliers : {}\".format(dataset.shape[0]))\n",
    "print()\n",
    "\n",
    "columns_to_clean = ['Temperature', 'Unemployment']\n",
    "for column_to_clean in columns_to_clean:\n",
    "    upper_limit = dataset[column_to_clean].mean() + 3 * dataset[column_to_clean].std()\n",
    "    lower_limit = dataset[column_to_clean].mean() - 3 * dataset[column_to_clean].std()\n",
    "    dataset = dataset[(dataset[column_to_clean] > lower_limit) & (dataset[column_to_clean] < upper_limit)]\n",
    "    \n",
    "print(\"Number of rows AFTER removing outliers : {}\".format(dataset.shape[0]))\n",
    "print()"
   ]
  },
  {
   "cell_type": "markdown",
   "id": "561e6618-888f-4372-93e2-2b2e10110cd5",
   "metadata": {},
   "source": [
    "## Preprocessing"
   ]
  },
  {
   "cell_type": "code",
   "execution_count": 30,
   "id": "59121e1f-3871-4462-b108-38027c4b0be3",
   "metadata": {},
   "outputs": [
    {
     "name": "stdout",
     "output_type": "stream",
     "text": [
      "Store                          int64\n",
      "Date                  datetime64[ns]\n",
      "Weekly_Sales                 float64\n",
      "Holiday_Flag                   int64\n",
      "Temperature                  float64\n",
      "Fuel_Price                   float64\n",
      "CPI                          float64\n",
      "Unemployment                 float64\n",
      "Week_Number                   UInt32\n",
      "Day_of_Year_Number             int64\n",
      "Day                            int64\n",
      "Month                          int64\n",
      "Year                           int64\n",
      "dtype: object\n"
     ]
    }
   ],
   "source": [
    "print(dataset.dtypes)"
   ]
  },
  {
   "cell_type": "markdown",
   "id": "0bef79f4-a407-4138-a9bd-f5734bcc1fc3",
   "metadata": {},
   "source": [
    "**Analysis :**\n",
    "\n",
    "- *Store                          int64* : Categorical value : sales may depend on localization but in absence of equivalence table, to be kept as classification\n",
    "\n",
    "- *Date                  datetime64[ns]* : Timestamp to drop, splitted in other columns therefore useless\n",
    "\n",
    "- *Weekly_Sales                 float64* : Column to predict\n",
    "\n",
    "- *Holiday_Flag                   int64* : Categorical To keep : high importance of Christmas\n",
    "\n",
    "- *Temperature                  float64* : Numeric to To keep\n",
    "\n",
    "- *Fuel_Price                   float64* : Numeric To keep Loosely correlated to sales : why ?\n",
    "\n",
    "- *CPI                          float64* : Numeric To keep\n",
    "\n",
    "- *Unemployment                 float64* : Numeric To keep\n",
    "\n",
    "- *Week_Number                   UInt32* : Categorical to keep\n",
    "\n",
    "- *Day_of_Year_Number             int64* : Categorical to drop, seems useless\n",
    "\n",
    "- *Day                            int64* : Numerical to drop, could be interesting to check only where holiday = false (initial scatter shows that a bit more cleaning would be required such as dropping the whole holiday period\n",
    "\n",
    "- *Month                          int64* : Categorical, to keep\n",
    "\n",
    "- *Year                           int64*: Categorical, to keep"
   ]
  },
  {
   "cell_type": "code",
   "execution_count": 31,
   "id": "02370a21-8c25-4ce2-8e15-61dffc47c1e6",
   "metadata": {},
   "outputs": [
    {
     "name": "stdout",
     "output_type": "stream",
     "text": [
      "Dropping useless columns...\n",
      "...Done.\n",
      "   Store  Weekly_Sales  Holiday_Flag  Temperature  Fuel_Price         CPI  \\\n",
      "0      1    1643690.90             0        42.31       2.572  211.096358   \n",
      "1      1    1641957.44             1        38.51       2.548  211.242170   \n",
      "2      1    1611968.17             0        39.93       2.514  211.289143   \n",
      "3      1    1409727.59             0        46.63       2.561  211.319643   \n",
      "4      1    1554806.68             0        46.50       2.625  211.350143   \n",
      "\n",
      "   Unemployment  Week_Number  Month  Year  \n",
      "0         8.106            5      2  2010  \n",
      "1         8.106            6      2  2010  \n",
      "2         8.106            7      2  2010  \n",
      "3         8.106            8      2  2010  \n",
      "4         8.106            9      3  2010  \n"
     ]
    }
   ],
   "source": [
    "# Drop some columns\n",
    "useless_cols = ['Date', 'Day', 'Day_of_Year_Number']\n",
    "# Date : is a timestamp, useless as is and correlated\n",
    "# Day : could be related to sales if people spend more\n",
    "\n",
    "print(\"Dropping useless columns...\")\n",
    "dataset = dataset.drop(useless_cols, axis=1) # axis = 1 indicates that we are dropping along the column axis\n",
    "\n",
    "print(\"...Done.\")\n",
    "print(dataset.head())"
   ]
  },
  {
   "cell_type": "code",
   "execution_count": 32,
   "id": "b64e603a-70d0-4fc8-b638-2c5979784e9f",
   "metadata": {
    "tags": []
   },
   "outputs": [
    {
     "name": "stdout",
     "output_type": "stream",
     "text": [
      "Separating labels from features...\n",
      "...Done.\n",
      "0    1643690.90\n",
      "1    1641957.44\n",
      "2    1611968.17\n",
      "3    1409727.59\n",
      "4    1554806.68\n",
      "Name: Weekly_Sales, dtype: float64\n",
      "\n",
      "   Store  Holiday_Flag  Temperature  Fuel_Price         CPI  Unemployment  \\\n",
      "0      1             0        42.31       2.572  211.096358         8.106   \n",
      "1      1             1        38.51       2.548  211.242170         8.106   \n",
      "2      1             0        39.93       2.514  211.289143         8.106   \n",
      "3      1             0        46.63       2.561  211.319643         8.106   \n",
      "4      1             0        46.50       2.625  211.350143         8.106   \n",
      "\n",
      "   Week_Number  Month  Year  \n",
      "0            5      2  2010  \n",
      "1            6      2  2010  \n",
      "2            7      2  2010  \n",
      "3            8      2  2010  \n",
      "4            9      3  2010  \n",
      "\n"
     ]
    }
   ],
   "source": [
    "# Separate target variable Y from features X\n",
    "target_name = 'Weekly_Sales'\n",
    "\n",
    "print(\"Separating labels from features...\")\n",
    "Y = dataset.loc[:,target_name]\n",
    "X = dataset.loc[:,[c for c in dataset.columns if c!=target_name]] # All columns are kept, except the target\n",
    "print(\"...Done.\")\n",
    "print(Y.head())\n",
    "print()\n",
    "print(X.head())\n",
    "print()"
   ]
  },
  {
   "cell_type": "code",
   "execution_count": 33,
   "id": "7397c7f2-dfd4-431d-9679-1dbe97730ba4",
   "metadata": {},
   "outputs": [
    {
     "name": "stdout",
     "output_type": "stream",
     "text": [
      "Convert pandas DataFrames to numpy arrays...\n",
      "...Done\n",
      "[[1 0 42.31 2.572 211.0963582 8.106 5 2 2010]\n",
      " [1 1 38.51 2.548 211.2421698 8.106 6 2 2010]\n",
      " [1 0 39.93 2.514 211.2891429 8.106 7 2 2010]\n",
      " [1 0 46.63 2.561 211.3196429 8.106 8 2 2010]\n",
      " [1 0 46.5 2.625 211.3501429 8.106 9 3 2010]]\n",
      "\n",
      "[1643690.9, 1641957.44, 1611968.17, 1409727.59, 1554806.68]\n"
     ]
    }
   ],
   "source": [
    "# Convert pandas DataFrames to numpy arrays before using scikit-learn\n",
    "print(\"Convert pandas DataFrames to numpy arrays...\")\n",
    "X = X.values\n",
    "Y = Y.tolist()\n",
    "print(\"...Done\")\n",
    "print(X[0:5,:])\n",
    "print()\n",
    "print(Y[0:5])"
   ]
  },
  {
   "cell_type": "code",
   "execution_count": 34,
   "id": "8dec433e-1850-4843-a85c-9a8796ce1d62",
   "metadata": {},
   "outputs": [
    {
     "name": "stdout",
     "output_type": "stream",
     "text": [
      "Dividing into train and test sets...\n",
      "...Done.\n",
      "\n"
     ]
    }
   ],
   "source": [
    "# First : always divide dataset into train set & test set !!\n",
    "print(\"Dividing into train and test sets...\")\n",
    "X_train, X_test, Y_train, Y_test = train_test_split(X, Y, test_size=0.7, random_state=0)\n",
    "# test_size indicates the proportion of rows from X and Y that will go into the test dataset while \n",
    "# maintaining the correspondance between the rows from X and Y \n",
    "\n",
    "# random_state is an argument that can be found in all functions that have a pseudo-random behaviour\n",
    "# if random_state is not stated the function will derive a different random result everytime the cell \n",
    "# runs, if random_state is given a value the results will be the same everytime the cell runs while\n",
    "# each different value of radom_state will derive a specific result\n",
    "print(\"...Done.\")\n",
    "print()"
   ]
  },
  {
   "cell_type": "code",
   "execution_count": 35,
   "id": "b357b0fe-60bc-4b14-91f6-370010bfe2d4",
   "metadata": {},
   "outputs": [
    {
     "name": "stdout",
     "output_type": "stream",
     "text": [
      "Store             int64\n",
      "Weekly_Sales    float64\n",
      "Holiday_Flag      int64\n",
      "Temperature     float64\n",
      "Fuel_Price      float64\n",
      "CPI             float64\n",
      "Unemployment    float64\n",
      "Week_Number      UInt32\n",
      "Month             int64\n",
      "Year              int64\n",
      "dtype: object\n"
     ]
    }
   ],
   "source": [
    "print(dataset.dtypes)"
   ]
  },
  {
   "cell_type": "markdown",
   "id": "89986d61-b42c-48b9-84c1-baf58d2a81fd",
   "metadata": {},
   "source": [
    "**Analysis :**\n",
    "\n",
    "- [0] *Store                          int64* : Categorical value : sales may depend on localization but in absence of equivalence table, to be kept as classification\n",
    "\n",
    "- [1] *Holiday_Flag                   int64* : Binary To keep : high importance of Christmas\n",
    "\n",
    "- [2] *Temperature                  float64* : Numeric to To keep\n",
    "\n",
    "- [3] *Fuel_Price                   float64* : Numeric To keep Loosely correlated to sales : why ?\n",
    "\n",
    "- [4] *CPI                          float64* : Numeric To keep\n",
    "\n",
    "- [5] *Unemployment                 float64* : Numeric To keep\n",
    "\n",
    "- [6] *Week_Number                   UInt32* : Categorical to keep\n",
    "\n",
    "- [7] *Month                          int64* : Categorical, to keep\n",
    "\n",
    "- [8] *Year                           int64*: Categorical, to keep"
   ]
  },
  {
   "cell_type": "code",
   "execution_count": 36,
   "id": "7516ae6e-8f92-460f-bacb-9651219fd14f",
   "metadata": {},
   "outputs": [],
   "source": [
    "# Create pipeline for numeric features\n",
    "numeric_features = [1,2,3,4,5] # Positions of numeric columns in X_train/X_test\n",
    "numeric_transformer = Pipeline(steps=[\n",
    "    ('imputer', SimpleImputer(strategy='median')), # missing values will be replaced by columns' median\n",
    "    ('scaler', StandardScaler())\n",
    "])"
   ]
  },
  {
   "cell_type": "code",
   "execution_count": 37,
   "id": "8d4473f1-22b2-49fc-ba23-84a906fa784f",
   "metadata": {},
   "outputs": [],
   "source": [
    "# Create pipeline for categorical features\n",
    "categorical_features = [0,6,7,8] # Positions of categorical columns in X_train/X_test\n",
    "categorical_transformer = Pipeline(\n",
    "    steps=[\n",
    "    ('imputer', SimpleImputer(strategy='most_frequent')), # missing values will be replaced by most frequent value\n",
    "    ('encoder', OneHotEncoder(drop='first')) # first column will be dropped to avoid creating correlations between features\n",
    "    ])\n"
   ]
  },
  {
   "cell_type": "code",
   "execution_count": 38,
   "id": "119fcbae-1fd6-4b6a-9c55-b304dd6edc81",
   "metadata": {},
   "outputs": [],
   "source": [
    "# Use ColumnTransformer to make a preprocessor object that describes all the treatments to be done\n",
    "preprocessor = ColumnTransformer(\n",
    "    transformers=[\n",
    "        ('num', numeric_transformer, numeric_features),\n",
    "        ('cat', categorical_transformer, categorical_features)\n",
    "    ])\n"
   ]
  },
  {
   "cell_type": "code",
   "execution_count": 39,
   "id": "6a6c856f-1c83-46b2-a447-64962520b932",
   "metadata": {},
   "outputs": [
    {
     "name": "stdout",
     "output_type": "stream",
     "text": [
      "Performing preprocessings on train set...\n",
      "[[31 0 63.39 3.734 220.8498468 7.057 11 3 2012]\n",
      " [15 0 74.67 4.004 135.9639355 7.806 30 7 2011]\n",
      " [15 1 62.36 2.837 132.7564516 8.099 36 9 2010]\n",
      " [42 0 74.04 4.202 129.089 8.494 19 5 2011]\n",
      " [30 0 83.59 2.64 211.0264684 8.099 30 7 2010]]\n",
      "...Done.\n",
      "  (0, 0)\t-0.2657988944085566\n",
      "  (0, 1)\t0.16488703656133674\n",
      "  (0, 2)\t0.8266765785715288\n",
      "  (0, 3)\t1.233418304181081\n",
      "  (0, 4)\t-0.4935081906590453\n",
      "  (0, 34)\t1.0\n",
      "  (0, 58)\t1.0\n",
      "  (0, 101)\t1.0\n",
      "  (0, 112)\t1.0\n",
      "  (1, 0)\t-0.2657988944085566\n",
      "  (1, 1)\t0.7758809457953689\n",
      "  (1, 2)\t1.416613945587028\n",
      "  (1, 3)\t-0.9374166411985209\n",
      "  (1, 4)\t-0.009249617072992053\n",
      "  (1, 18)\t1.0\n",
      "  (1, 77)\t1.0\n",
      "  (1, 105)\t1.0\n",
      "  (1, 111)\t1.0\n",
      "  (2, 0)\t3.7622428875227403\n",
      "  (2, 1)\t0.10909592605503765\n",
      "  (2, 2)\t-1.1332264518466317\n",
      "  (2, 3)\t-1.019443423148878\n",
      "  (2, 4)\t0.18018664736053763\n",
      "  (2, 18)\t1.0\n",
      "  (2, 83)\t1.0\n",
      "  (2, 107)\t1.0\n",
      "  (3, 0)\t-0.2657988944085566\n",
      "  (3, 1)\t0.741756285971128\n",
      "  (3, 2)\t1.8492346813983953\n",
      "  (3, 3)\t-1.1132332166710488\n",
      "  (3, 4)\t0.43557000726239464\n",
      "  (3, 45)\t1.0\n",
      "  (3, 66)\t1.0\n",
      "  (3, 103)\t1.0\n",
      "  (3, 111)\t1.0\n",
      "  (4, 0)\t-0.2657988944085566\n",
      "  (4, 1)\t1.2590427960052597\n",
      "  (4, 2)\t-1.5636622344468298\n",
      "  (4, 3)\t0.9821995473129179\n",
      "  (4, 4)\t0.18018664736053763\n",
      "  (4, 33)\t1.0\n",
      "  (4, 77)\t1.0\n",
      "  (4, 105)\t1.0\n",
      "\n"
     ]
    }
   ],
   "source": [
    "# Preprocessings on train set\n",
    "print(\"Performing preprocessings on train set...\")\n",
    "print(X_train[0:5,:])\n",
    "X_train = preprocessor.fit_transform(X_train)\n",
    "print('...Done.')\n",
    "print(X_train[0:5,:])\n",
    "print()"
   ]
  },
  {
   "cell_type": "markdown",
   "id": "92cb76e2-28bf-4615-9cb3-b3bb2083f453",
   "metadata": {},
   "source": [
    "## Training"
   ]
  },
  {
   "cell_type": "code",
   "execution_count": 40,
   "id": "29b1426e-984a-4fb1-aff5-f414b9fe60ce",
   "metadata": {},
   "outputs": [
    {
     "name": "stdout",
     "output_type": "stream",
     "text": [
      "Train model...\n",
      "...Done.\n"
     ]
    }
   ],
   "source": [
    "# Train model\n",
    "print(\"Train model...\")\n",
    "regressor = LinearRegression()\n",
    "regressor.fit(X_train, Y_train)\n",
    "print(\"...Done.\")\n"
   ]
  },
  {
   "cell_type": "code",
   "execution_count": 41,
   "id": "928072ec-3c64-4a84-9c36-fdf02378d61e",
   "metadata": {},
   "outputs": [
    {
     "name": "stdout",
     "output_type": "stream",
     "text": [
      "Predictions on training set...\n",
      "...Done.\n",
      "[1386266.42527771  581711.91927573  647121.73960421 ... 1942493.73559032\n",
      " 1384080.50398576 2040598.08149792]\n",
      "\n"
     ]
    }
   ],
   "source": [
    "# Predictions on training set\n",
    "print(\"Predictions on training set...\")\n",
    "Y_train_pred = regressor.predict(X_train)\n",
    "print(\"...Done.\")\n",
    "print(Y_train_pred)\n",
    "print()\n"
   ]
  },
  {
   "cell_type": "markdown",
   "id": "8161994e-8666-42f1-904d-ee7c86865c14",
   "metadata": {
    "tags": []
   },
   "source": [
    "## Model evaluation"
   ]
  },
  {
   "cell_type": "code",
   "execution_count": 42,
   "id": "3ab89f40-44ed-4cdd-bd63-fb4571af6fb1",
   "metadata": {},
   "outputs": [
    {
     "data": {
      "text/plain": [
       "(1864, 113)"
      ]
     },
     "execution_count": 42,
     "metadata": {},
     "output_type": "execute_result"
    }
   ],
   "source": [
    "X_train.shape"
   ]
  },
  {
   "cell_type": "code",
   "execution_count": 43,
   "id": "fb131e75-6ec2-4b74-a4bb-888958e8b82b",
   "metadata": {},
   "outputs": [
    {
     "name": "stdout",
     "output_type": "stream",
     "text": [
      "Performing preprocessings on test set...\n",
      "[[17 0 62.64 2.82 126.1266 6.635 25 6 2010]\n",
      " [37 0 85.54 2.664 210.3617581 8.36 33 8 2010]\n",
      " [20 0 66.41 3.842 208.1265604 7.287 24 6 2011]\n",
      " [41 0 59.39 3.659 198.1267184 6.432 37 9 2012]\n",
      " [16 0 55.78 3.735 192.8470612 6.339 23 6 2011]]\n",
      "...Done.\n",
      "  (0, 0)\t-0.2657988944085566\n",
      "  (0, 1)\t0.12426244153247823\n",
      "  (0, 2)\t-1.1703706564364973\n",
      "  (0, 3)\t-1.1889923308008932\n",
      "  (0, 4)\t-0.7663481346554603\n",
      "  (0, 20)\t1.0\n",
      "  (0, 72)\t1.0\n",
      "  (0, 104)\t1.0\n",
      "  (1, 0)\t-0.2657988944085566\n",
      "  (1, 1)\t1.364666743080292\n",
      "  (1, 2)\t-1.5112233573787854\n",
      "  (1, 3)\t0.9652005385764264\n",
      "  (1, 4)\t0.348933626941258\n",
      "  (1, 40)\t1.0\n",
      "  (1, 80)\t1.0\n",
      "  (1, 106)\t1.0\n",
      "  (2, 0)\t-0.2657988944085566\n",
      "  (2, 1)\t0.3284687392108735\n",
      "  (2, 2)\t1.062651525377729\n",
      "  (2, 3)\t0.9080385760942948\n",
      "  (2, 4)\t-0.3448039557794831\n",
      "  (2, 23)\t1.0\n",
      "  (2, 71)\t1.0\n",
      "  (2, 104)\t1.0\n",
      "  (2, 111)\t1.0\n",
      "  (3, 0)\t-0.2657988944085566\n",
      "  (3, 1)\t-0.05177747025924201\n",
      "  (3, 2)\t0.6628050877338896\n",
      "  (3, 3)\t0.6523070167645589\n",
      "  (3, 4)\t-0.897595785440465\n",
      "  (3, 44)\t1.0\n",
      "  (3, 84)\t1.0\n",
      "  (3, 107)\t1.0\n",
      "  (3, 112)\t1.0\n",
      "  (4, 0)\t-0.2657988944085566\n",
      "  (4, 1)\t-0.2473171876648143\n",
      "  (4, 2)\t0.8288615317826971\n",
      "  (4, 3)\t0.5172873866061564\n",
      "  (4, 4)\t-0.9577240195439403\n",
      "  (4, 19)\t1.0\n",
      "  (4, 70)\t1.0\n",
      "  (4, 104)\t1.0\n",
      "  (4, 111)\t1.0\n",
      "\n"
     ]
    }
   ],
   "source": [
    "# Preprocessings on test set\n",
    "print(\"Performing preprocessings on test set...\")\n",
    "print(X_test[0:5,:])\n",
    "X_test = preprocessor.transform(X_test) # Don't fit again !! The test set is used for validating decisions\n",
    "# we made based on the training set, therefore we can only apply transformations that were parametered using the training set.\n",
    "# Otherwise this creates what is called a leak from the test set which will introduce a bias in all your results.\n",
    "print('...Done.')\n",
    "print(X_test[0:5,:])\n",
    "print()"
   ]
  },
  {
   "cell_type": "code",
   "execution_count": 44,
   "id": "2bb3c415-4651-4a4a-9b5f-19c355b4c016",
   "metadata": {},
   "outputs": [
    {
     "name": "stdout",
     "output_type": "stream",
     "text": [
      "Predictions on test set...\n",
      "...Done.\n",
      "[ 898917.42594936  515448.48008013 2097918.61160961 ...  955328.86678137\n",
      "  344063.7201112   210881.63839261]\n",
      "\n"
     ]
    }
   ],
   "source": [
    "# Predictions on test set\n",
    "print(\"Predictions on test set...\")\n",
    "Y_test_pred = regressor.predict(X_test)\n",
    "print(\"...Done.\")\n",
    "print(Y_test_pred)\n",
    "print()\n"
   ]
  },
  {
   "cell_type": "code",
   "execution_count": 45,
   "id": "df1c30f3-8de2-4c08-9883-b4d878f6d548",
   "metadata": {},
   "outputs": [
    {
     "name": "stdout",
     "output_type": "stream",
     "text": [
      "Adjusted R2 score on training set : 0.9674948354901531\n",
      "Adjusted R2 score on test set : 0.9557288388243218\n"
     ]
    }
   ],
   "source": [
    "# Print Adjusted R^2 scores\n",
    "# n = number of observation, p = number of features\n",
    "\n",
    "ntrain = len(Y_train)\n",
    "ntest = len(Y_test)\n",
    "p = X_test.shape[1]\n",
    "\n",
    "r2train = r2_score(Y_train, Y_train_pred)\n",
    "Adj_r2train = 1-(1-r2train)*(ntrain-1)/(ntrain-p-1)\n",
    "\n",
    "r2test = r2_score(Y_test, Y_test_pred)\n",
    "Adj_r2test = 1-(1-r2test)*(ntest-1)/(ntest-p-1)\n",
    "\n",
    "print(\"Adjusted R2 score on training set : \"+str(Adj_r2train))\n",
    "print(\"Adjusted R2 score on test set : \"+str(Adj_r2test))\n",
    "\n",
    "\n",
    "\n"
   ]
  },
  {
   "cell_type": "code",
   "execution_count": 46,
   "id": "1e01f681-14a4-41ed-86a4-68b3087d42f3",
   "metadata": {},
   "outputs": [
    {
     "data": {
      "image/png": "[encoded data removed]",
      "text/plain": [
       "<Figure size 720x720 with 1 Axes>"
      ]
     },
     "metadata": {
      "needs_background": "light"
     },
     "output_type": "display_data"
    }
   ],
   "source": [
    "# Visualize the model\n",
    "plt.figure(figsize=(10,10))\n",
    "plt.scatter(Y_test, Y_test_pred, c='crimson')\n",
    "#plt.yscale('log')\n",
    "#plt.xscale('log')\n",
    "\n",
    "p1 = max(max(Y_test_pred), max(Y_test))\n",
    "p2 = min(min(Y_test_pred), min(Y_test))\n",
    "plt.plot([p1, p2], [p1, p2], 'b-')\n",
    "plt.xlabel('True Values', fontsize=15)\n",
    "plt.ylabel('Predictions', fontsize=15)\n",
    "plt.axis('equal')\n",
    "plt.show()\n"
   ]
  },
  {
   "cell_type": "code",
   "execution_count": null,
   "id": "a23aa3c0-4f91-474f-ab51-78513886c7d8",
   "metadata": {},
   "outputs": [],
   "source": []
  }
 ],
 "metadata": {
  "kernelspec": {
   "display_name": "Python 3.8.10 64-bit",
   "language": "python",
   "name": "python3"
  },
  "language_info": {
   "codemirror_mode": {
    "name": "ipython",
    "version": 3
   },
   "file_extension": ".py",
   "mimetype": "text/x-python",
   "name": "python",
   "nbconvert_exporter": "python",
   "pygments_lexer": "ipython3",
   "version": "3.8.10"
  },
  "vscode": {
   "interpreter": {
    "hash": "916dbcbb3f70747c44a77c7bcd40155683ae19c65e1c03b4aa3499c5328201f1"
   }
  }
 },
 "nbformat": 4,
 "nbformat_minor": 5
}
